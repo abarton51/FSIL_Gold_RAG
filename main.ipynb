{
 "cells": [
  {
   "cell_type": "markdown",
   "metadata": {},
   "source": [
    "# RegRecall Dataset Construction\n",
    "\n",
    "This notebook contains code to construct the RegRecall dataset."
   ]
  },
  {
   "cell_type": "markdown",
   "metadata": {},
   "source": [
    "## Part 0: Imports"
   ]
  },
  {
   "cell_type": "code",
   "execution_count": 23,
   "metadata": {},
   "outputs": [
    {
     "name": "stdout",
     "output_type": "stream",
     "text": [
      "The autoreload extension is already loaded. To reload it, use:\n",
      "  %reload_ext autoreload\n"
     ]
    }
   ],
   "source": [
    "%load_ext autoreload\n",
    "%autoreload 2\n",
    "from pypdf import PdfReader\n",
    "from lit_scraper import scrape_sec_complaints\n",
    "from pdf_parser import get_all_pdf_texts, load_pdf_texts, extract_violated_regulations"
   ]
  },
  {
   "cell_type": "markdown",
   "metadata": {},
   "source": [
    "## Part 1: Litigation Web Scraping\n",
    "\n",
    "First, we scrape all litigation proceedings opened by the SEC from [here](https://www.sec.gov/litigation/litreleases). After the scraping is completed, note that the documents must be moved from your default \"Downloads\" folder to a more permanent location."
   ]
  },
  {
   "cell_type": "code",
   "execution_count": null,
   "metadata": {},
   "outputs": [],
   "source": [
    "scrape_sec_complaints()"
   ]
  },
  {
   "cell_type": "markdown",
   "metadata": {},
   "source": [
    "## Part 2: Parsing\n",
    "\n",
    "Next, the documents must be parsed to identify and extract information relating to actions taken, and violations broken.\n",
    "\n",
    "First, parse the pdfs to extract text."
   ]
  },
  {
   "cell_type": "code",
   "execution_count": 24,
   "metadata": {},
   "outputs": [
    {
     "name": "stderr",
     "output_type": "stream",
     "text": [
      "100%|██████████| 2699/2699 [27:12<00:00,  1.65it/s]  \n"
     ]
    }
   ],
   "source": [
    "#extract text from all pdfs. Save text for faster loading later\n",
    "all_texts = get_all_pdf_texts(\"data/sec_complaints\", save_text=True, save_directory=\"data/sec_complaints_text\")"
   ]
  },
  {
   "cell_type": "markdown",
   "metadata": {},
   "source": [
    "Alternatively, if the text has already been extracted, load the text in."
   ]
  },
  {
   "cell_type": "code",
   "execution_count": 49,
   "metadata": {},
   "outputs": [
    {
     "name": "stderr",
     "output_type": "stream",
     "text": [
      "100%|██████████| 2672/2672 [00:18<00:00, 143.43it/s]"
     ]
    },
    {
     "name": "stdout",
     "output_type": "stream",
     "text": [
      "2672 texts loaded in!\n"
     ]
    },
    {
     "name": "stderr",
     "output_type": "stream",
     "text": [
      "\n"
     ]
    }
   ],
   "source": [
    "all_texts = load_pdf_texts(\"data/sec_complaints_text\")\n",
    "\n",
    "print(\"{num_texts} texts loaded in!\".format(num_texts=len(all_texts)))"
   ]
  },
  {
   "cell_type": "code",
   "execution_count": 57,
   "metadata": {},
   "outputs": [
    {
     "name": "stdout",
     "output_type": "stream",
     "text": [
      "2487\n"
     ]
    }
   ],
   "source": [
    "violated_lines = extract_violated_regulations(all_texts)\n",
    "\n",
    "print(violated_lines[\"comp20854\"])"
   ]
  },
  {
   "cell_type": "code",
   "execution_count": 54,
   "metadata": {},
   "outputs": [
    {
     "name": "stdout",
     "output_type": "stream",
     "text": [
      "2388\n"
     ]
    }
   ],
   "source": [
    "x = 0\n",
    "\n",
    "for key, value in all_texts.items():\n",
    "\n",
    "    if \"violations of\" in value:\n",
    "\n",
    "        x += 1\n",
    "\n",
    "print(x)"
   ]
  }
 ],
 "metadata": {
  "kernelspec": {
   "display_name": "regrecall",
   "language": "python",
   "name": "python3"
  },
  "language_info": {
   "codemirror_mode": {
    "name": "ipython",
    "version": 3
   },
   "file_extension": ".py",
   "mimetype": "text/x-python",
   "name": "python",
   "nbconvert_exporter": "python",
   "pygments_lexer": "ipython3",
   "version": "3.12.2"
  }
 },
 "nbformat": 4,
 "nbformat_minor": 2
}
